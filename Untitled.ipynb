{
 "cells": [
  {
   "cell_type": "markdown",
   "metadata": {},
   "source": [
    "# Import of utility libraries"
   ]
  },
  {
   "cell_type": "code",
   "execution_count": 13,
   "metadata": {},
   "outputs": [],
   "source": [
    "import PIL\n",
    "import matplotlib.pyplot as pyplot\n",
    "%matplotlib inline\n",
    "import pylab as pl\n",
    "import numpy\n",
    "from PIL import Image, ImageFont, ImageDraw\n",
    "import os\n",
    "import random\n",
    "from IPython import display\n",
    "from string import ascii_lowercase\n",
    "from random import choice"
   ]
  },
  {
   "cell_type": "markdown",
   "metadata": {},
   "source": [
    "# Import of pytorch"
   ]
  },
  {
   "cell_type": "code",
   "execution_count": 14,
   "metadata": {},
   "outputs": [],
   "source": [
    "import torch\n",
    "import torch.nn\n",
    "import torch.nn.functional as F\n",
    "import torch.utils.data\n",
    "import torch.optim as optim\n",
    "\n",
    "import torchvision\n",
    "import torchvision.transforms as transforms"
   ]
  },
  {
   "cell_type": "markdown",
   "metadata": {},
   "source": [
    "# Data preparation\n",
    "Here we'll generate syntetic image using PIL and system wide fonts. The make_img helper function generate.\n",
    "Since our network will only accept fixed size input, we hardcode a 105 x 105 size."
   ]
  },
  {
   "cell_type": "code",
   "execution_count": 15,
   "metadata": {},
   "outputs": [],
   "source": [
    "def make_img(text, font):\n",
    "  img = PIL.Image.new(\"RGB\", (105, 105))\n",
    "  draw = PIL.ImageDraw.Draw(img)\n",
    "  font = PIL.ImageFont.truetype(font, size=45)\n",
    "  draw.text((0, 0), text, font = font)\n",
    "  return img"
   ]
  },
  {
   "cell_type": "markdown",
   "metadata": {},
   "source": [
    "While we're at it, let's see what kind of image it produces. Feel free to replace the true type font file according to your system path."
   ]
  },
  {
   "cell_type": "code",
   "execution_count": 16,
   "metadata": {},
   "outputs": [
    {
     "data": {
      "text/plain": [
       "<matplotlib.image.AxesImage at 0x18b2bf52c18>"
      ]
     },
     "execution_count": 16,
     "metadata": {},
     "output_type": "execute_result"
    },
    {
     "data": {
      "image/png": "[encoded data removed]",
      "text/plain": [
       "<Figure size 432x288 with 1 Axes>"
      ]
     },
     "metadata": {},
     "output_type": "display_data"
    }
   ],
   "source": [
    "pl.imshow(make_img(\"test\", \"C:\\\\windows\\\\fonts\\\\arial.ttf\"))"
   ]
  },
  {
   "cell_type": "markdown",
   "metadata": {},
   "source": [
    "There's obviously room for improvement..."
   ]
  },
  {
   "cell_type": "markdown",
   "metadata": {},
   "source": [
    "Training and validation dataset are passed through a Dataset interface. Such interface needs to implement 3 members functions, __init__(), __len__() and __get_item__(idx) which are rather self explanatory.\n",
    "Our implementation will create a random 4 letter text and pick a font and returns a text image along with the font index (data needs to be labeled by their class).\n",
    "\n",
    "By the way we use the name VFR for Visual Font Recognition."
   ]
  },
  {
   "cell_type": "code",
   "execution_count": 17,
   "metadata": {},
   "outputs": [],
   "source": [
    "class CustomVFR(torch.utils.data.Dataset):\n",
    "  def __init__(self, transform = None):\n",
    "    random.seed(0)\n",
    "    self.transform = transform\n",
    "    self.fonts = []\n",
    "    for path, dir, files in os.walk(\"C:\\\\windows\\\\fonts\"):\n",
    "      for file in files:\n",
    "        if file.endswith(\".ttf\"):\n",
    "            self.fonts.append(file)\n",
    "\n",
    "  def __len__(self):\n",
    "    return len(self.fonts) * 1\n",
    "\n",
    "  def __getitem__(self, i):\n",
    "    idx = choice(range(len(self.fonts)))\n",
    "    word = ''.join([choice(ascii_lowercase) for _ in range(4)])\n",
    "    img = make_img(word, self.fonts[idx])\n",
    "    if self.transform:\n",
    "      img = self.transform(img)\n",
    "    return img, idx"
   ]
  },
  {
   "cell_type": "markdown",
   "metadata": {},
   "source": [
    "# The network\n",
    "Now our network : it only needs to implement an __init__() and a forward(x) method and to inherit from the Module class.\n",
    "The x argument in the forward method is a torch Tensor object which will record gradient of their operator so that a backward operation is actually not needed.\n",
    "The Network structure comes from Adobe DeepFont paper : https://arxiv.org/abs/1507.03196"
   ]
  },
  {
   "cell_type": "code",
   "execution_count": 18,
   "metadata": {},
   "outputs": [],
   "source": [
    "class DeepFont(torch.nn.Module):\n",
    "  def __init__(self):\n",
    "    super(DeepFont, self).__init__()\n",
    "    self.conv_layer1 = torch.nn.Conv2d(3, 64, 3)\n",
    "    self.lrn1 = torch.nn.LocalResponseNorm(2)\n",
    "    self.max_pooling1 = torch.nn.MaxPool2d(2)\n",
    "    self.conv_layer2 = torch.nn.Conv2d(64, 128, 3)\n",
    "    self.lrn2 = torch.nn.LocalResponseNorm(2)\n",
    "    self.max_pooling2 = torch.nn.MaxPool2d(2)\n",
    "\n",
    "    self.conv_layer3 = torch.nn.Conv2d(128, 256, 3)\n",
    "    self.conv_layer4 = torch.nn.Conv2d(256, 256, 3)\n",
    "    self.conv_layer5 = torch.nn.Conv2d(256, 256, 3)\n",
    "    self.fc6 = torch.nn.Linear(256*20*20, 4096)\n",
    "    self.fc7 = torch.nn.Linear(4096, 2383)\n",
    "    self.fc8 = torch.nn.Linear(2383, 2383)\n",
    "\n",
    "  def forward(self, x):\n",
    "    x = self.conv_layer1(x)\n",
    "    x = F.relu(x)\n",
    "    x = self.lrn1(x)\n",
    "    x = self.max_pooling1(x)\n",
    "\n",
    "    x = self.conv_layer2(x)\n",
    "    x = F.relu(x)\n",
    "    x = self.lrn2(x)\n",
    "    x = self.max_pooling2(x)\n",
    "\n",
    "    x = self.conv_layer3(x)\n",
    "    x = F.relu(x)\n",
    "    x = self.conv_layer4(x)\n",
    "    x = F.relu(x)\n",
    "    x = x.view(-1, 256*20*20)\n",
    "    x = self.fc6(x)\n",
    "    x = F.relu(x)\n",
    "    x = self.fc7(x)\n",
    "    x = F.relu(x)\n",
    "    x = self.fc8(x)\n",
    "    return x"
   ]
  },
  {
   "cell_type": "markdown",
   "metadata": {},
   "source": [
    "TODO because I'm a lazy 🦆 : the Stacked Convolutional Auto Encoder training part is missing at the moment. It basically takes the first half of the network, plug it into some kind of reverse network and then train the whole new network to be as close as possible from an identity transformation."
   ]
  },
  {
   "cell_type": "markdown",
   "metadata": {},
   "source": [
    "# Training & Validation\n",
    "Instanciate our dataset : we can use the transforms mechanism to alter our data before passing them to a network. In our case we need to convert PIL image to torch tensor ; we could also rotate, crop or whatever images to increase robustness (see: data augmentation).\n",
    "As usual we use separate set for training and validation."
   ]
  },
  {
   "cell_type": "code",
   "execution_count": 19,
   "metadata": {},
   "outputs": [],
   "source": [
    "trainingset = CustomVFR(transform = transforms.Compose([transforms.ToTensor()]))\n",
    "testset = CustomVFR(transform = transforms.Compose([transforms.ToTensor()]))"
   ]
  },
  {
   "cell_type": "markdown",
   "metadata": {},
   "source": [
    "To ease dataset manipulation pytorch has a DataLoader object that can batch and shuffle data. Since pytorch network always take batch as input it's useful to rely on such object."
   ]
  },
  {
   "cell_type": "code",
   "execution_count": 20,
   "metadata": {},
   "outputs": [],
   "source": [
    "trainingloader = torch.utils.data.DataLoader(dataset, batch_size=4,\n",
    "                        shuffle=True)\n",
    "testloader = torch.utils.data.DataLoader(dataset, batch_size=4,\n",
    "                        shuffle=True)"
   ]
  },
  {
   "cell_type": "markdown",
   "metadata": {},
   "source": [
    "Now the real part: we instanciate the network and train it using the cross entropy loss criterion and the SGD optimisation algorithm (Note: I have absolutly no idea what SGD is)."
   ]
  },
  {
   "cell_type": "code",
   "execution_count": 21,
   "metadata": {},
   "outputs": [],
   "source": [
    "device = torch.device(\"cuda:0\" if torch.cuda.is_available() else \"cpu\")\n",
    "\n",
    "Res = DeepFont()\n",
    "Res.to(device)\n",
    "criterion = torch.nn.CrossEntropyLoss()\n",
    "optimizer = optim.SGD(Res.parameters(), lr=0.001, momentum=0.9)"
   ]
  },
  {
   "cell_type": "markdown",
   "metadata": {},
   "source": [
    "We'll use 100 epoch ; this means we'll pass training data 100 times in the network.\n",
    "The figure is the loss value for a given epoch, I'll need to find how to nicely print label on it."
   ]
  },
  {
   "cell_type": "code",
   "execution_count": 22,
   "metadata": {},
   "outputs": [
    {
     "data": {
      "image/png": "[encoded data removed]",
      "text/plain": [
       "<Figure size 432x288 with 1 Axes>"
      ]
     },
     "metadata": {},
     "output_type": "display_data"
    },
    {
     "data": {
      "image/png": "[encoded data removed]",
      "text/plain": [
       "<Figure size 432x288 with 1 Axes>"
      ]
     },
     "metadata": {},
     "output_type": "display_data"
    }
   ],
   "source": [
    "epoch_losses = []\n",
    "for epoch in range(100):\n",
    "  epoch_loss = 0\n",
    "  for imgs, fonts in dataloader:\n",
    "    imgs, fonts = imgs.to(device), fonts.to(device)\n",
    "    optimizer.zero_grad()\n",
    "    outputs = Res(imgs)\n",
    "\n",
    "    loss = criterion(outputs, fonts)\n",
    "    loss.backward()\n",
    "    optimizer.step()\n",
    "    epoch_loss += loss.item()\n",
    "  epoch_losses.append(epoch_loss)\n",
    "  pl.plot(range(epoch + 1), epoch_losses)\n",
    "  display.clear_output(wait=True)\n",
    "  display.display(pl.gcf())"
   ]
  },
  {
   "cell_type": "markdown",
   "metadata": {},
   "source": [
    "Now we test:"
   ]
  },
  {
   "cell_type": "code",
   "execution_count": 25,
   "metadata": {},
   "outputs": [
    {
     "name": "stdout",
     "output_type": "stream",
     "text": [
      "0.29838709677419356\n"
     ]
    }
   ],
   "source": [
    "\n",
    "correct = 0\n",
    "all = 0\n",
    "with torch.no_grad():\n",
    "  for imgs, fonts in testloader:\n",
    "    imgs = imgs.to(device)\n",
    "    outputs = Res(imgs)\n",
    "    _, idx = torch.max(outputs, 1)\n",
    "    tmp = (idx.cpu() == fonts).sum().item()\n",
    "    correct += tmp\n",
    "    all += 4\n",
    "\n",
    "print(correct / all)"
   ]
  },
  {
   "cell_type": "code",
   "execution_count": null,
   "metadata": {},
   "outputs": [],
   "source": []
  }
 ],
 "metadata": {
  "kernelspec": {
   "display_name": "Python [default]",
   "language": "python",
   "name": "python3"
  },
  "language_info": {
   "codemirror_mode": {
    "name": "ipython",
    "version": 3
   },
   "file_extension": ".py",
   "mimetype": "text/x-python",
   "name": "python",
   "nbconvert_exporter": "python",
   "pygments_lexer": "ipython3",
   "version": "3.6.5"
  }
 },
 "nbformat": 4,
 "nbformat_minor": 2
}
